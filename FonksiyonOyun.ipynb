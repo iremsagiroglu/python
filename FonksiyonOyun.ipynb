{
 "cells": [
  {
   "cell_type": "markdown",
   "metadata": {},
   "source": [
    "# Python Fonksiyonlar İle Oyun Örnekleri "
   ]
  },
  {
   "cell_type": "markdown",
   "metadata": {},
   "source": [
    "Merhabalar, ben İrem. Burada Python fonksiyonlar konusu dahilinde oluşturulabilecek 3 adet oyunun kodlarını paylaşacağım. "
   ]
  },
  {
   "cell_type": "markdown",
   "metadata": {},
   "source": [
    "### Sayı Tahmin Oyunu\n",
    " Kullanıcının bilgisayarın rastgele tuttuğu sayıyı tahmin etmeye çalışacağı bir oyunun kodunu yazacağız.\n",
    "\n",
    " 1. İlk olarak random modülünü içe aktaracağız\n",
    " 2. guess adında bir fonksiyon tanımlayacağız\n",
    " 3. Input ile kullanıcıdan tahminde bulunmasını isteyeceğiz\n",
    " 4. Yapılan tahmine göre bilgisayarın kullanıcıyı yönlendirmesini sağlayacağız"
   ]
  },
  {
   "cell_type": "code",
   "execution_count": null,
   "metadata": {},
   "outputs": [],
   "source": [
    "from random import randint\n",
    "\n",
    "def guess(number):\n",
    "  user_number = int(input(\"Sayı tahmin oyunu için 1-100 arasında bir tahminde bulun \"))\n",
    "  while number != user_number:\n",
    "    if number < user_number:\n",
    "      print(\"Üzgünüm, daha küçük bir tahminde bulunmalısın.\")\n",
    "    else:\n",
    "      print(\"Üzgünüm, daha büyük bir tahminde bulunmalısın.\")\n",
    "    user_number = int(input(\"Lütfen yeniden bir tanminde bulun!\"))\n",
    "\n",
    "  print(\"Tebrikler, doğru tahmin\")\n",
    "\n",
    "guess(randint(1, 100))"
   ]
  },
  {
   "cell_type": "markdown",
   "metadata": {},
   "source": [
    "### Sayı Tahmini Oyunu -2 \n",
    "İlk sayı tahmin oyunundan farklı olarak, bilgisayar kullanıcının tuttuğu sayıyı tahmin etmeye çalışacak. \n",
    "\n",
    "1. Öncelikle random modülünü içe aktaracağız \n",
    "2. computer_guess asında bir fonksiyon tanımlayacağız\n",
    "3. Kullanıcının bilgisayara vereceği geri dönütleri tanımlayacağız \n",
    "4. Bilgisayarın tahmin etmesi için gireceğimiz değeri yazacağız\n"
   ]
  },
  {
   "cell_type": "code",
   "execution_count": null,
   "metadata": {},
   "outputs": [],
   "source": [
    "import random\n",
    "\n",
    "def computer_guess(x):\n",
    "  start = 1\n",
    "  end = 100\n",
    "  result = \"\"\n",
    "\n",
    "  while result != \"d\":\n",
    "    guess = random.randint(start, end)\n",
    "    \n",
    "    result = input(f\"{guess} değeri aklından tuttuğun değerden büyükse (b) küçükse (k), doğruysa (d) giriniz\").lower() #lower küçük harfle yazdırır\n",
    "    if result == \"b\":\n",
    "      end = guess -1 \n",
    "\n",
    "    elif result == \"k\":\n",
    "      start = guess + 1\n",
    "\n",
    "  \n",
    "  print(\"Tebrikler, doğru tahmin\")  \n",
    "\n",
    "computer_guess(19)"
   ]
  },
  {
   "cell_type": "markdown",
   "metadata": {},
   "source": [
    "### Taş, Kağıt, Makas Oyunu \n",
    "* Kağıt taşı yener\n",
    "* Taş makası yener\n",
    "* Makas kağıdı yener\n",
    "Yukarıdaki kuralların geçerli olduğu bir taş, kağıt, makas oyunu kodlayacağız. \n",
    "\n",
    "1. Öncelikle random modülünü içe aktarıyoruz. \n",
    "2. Paun hesaplaması yapılabilmesi için player_score ve computer_score adında iki tane değişken belirleyip bunları 0'a eşitliyoruz. \n",
    "3. print_result adında bir fonksiyon tanımlıyoruz, içerisine kontrol yapısı ile puan alma şartlarını belirliyoruz.\n",
    "4. Oyunun kurallarını ekrana yazdıran kodu yazıyoruz\n",
    "5. Kullanıcıdan input almamızı sağlayan kodu yazıyoruz\n",
    "6. Oyunun kurallarını belirten kontrol yapıları kodlarını yazıyoruz"
   ]
  },
  {
   "cell_type": "code",
   "execution_count": null,
   "metadata": {},
   "outputs": [],
   "source": [
    "import random\n",
    "player_score = computer_score = 0\n",
    "computer_choice = 0\n",
    "def print_result(winner = \"Bilgisayar\"):\n",
    "    print(f\"Bilgisayarın Seçimi: {computer_choice}\\n\\nKazanan: {winner}\")\n",
    "    global player_score, computer_score\n",
    "    if winner == \"Bilgisayar\":\n",
    "        computer_score += 100\n",
    "    else:\n",
    "        player_score += 100\n",
    "print(\"Taş Kağıt Makas Oyununa Hoş geldiniz!\\n\" + \"-\"*37)\n",
    "while True:\n",
    "    print(\"\\n1 - Taş\\n2 - Kağıt \\n3 - Makas\\nOyundan çıkmak isterseniz bu değerler dışında bir değer giriniz\")\n",
    "    player_choice = int(input(\"Seçiminizi yapınız\"))\n",
    "    computer_choice = random.choice([1, 2, 3])\n",
    "    if player_choice == computer_choice:\n",
    "        print(\"Beraber, yeniden oynayınız\")\n",
    "    elif player_choice == 1:\n",
    "        if computer_choice == 2:\n",
    "            print_result()\n",
    "        elif computer_choice == 3:\n",
    "            print_result(\"Kullanıcı\")\n",
    "    elif player_choice == 2:\n",
    "        if computer_choice == 1:\n",
    "            print_result(\"Kullanıcı\")\n",
    "        elif computer_choice == 3:\n",
    "            print_result()\n",
    "    elif player_choice == 3:\n",
    "        if computer_choice == 1:\n",
    "            print_result()\n",
    "        elif computer_choice == 2:\n",
    "            print_result(\"Kullanıcı\")\n",
    "    else:\n",
    "        break\n",
    "print(f\"\\n\\nKullanıcı skoru {player_score} - Bilgisayarın skoru {computer_score}\")\n",
    "if player_score > computer_score: print(\"Kazanan Kullanıcı\")\n",
    "elif player_score < computer_score: print(\"Kazanan Bilgisayar\")\n",
    "else: print(\"Oyun Berabere\")"
   ]
  }
 ],
 "metadata": {
  "language_info": {
   "name": "python"
  },
  "orig_nbformat": 4
 },
 "nbformat": 4,
 "nbformat_minor": 2
}
