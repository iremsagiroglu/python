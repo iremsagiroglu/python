{
 "cells": [
  {
   "cell_type": "markdown",
   "metadata": {},
   "source": [
    "# Python Kontrol Yapıları ve Döngüler Örnek Soruları #\n",
    "\n",
    "Merhabalar, ben İrem. Bu dosyada Python kontrol yapıları ve döngüler konusunda karşımıza çıkabilecek ve çözdüğümüzde konuları daha iyi anlamamızı sağlayacak bazı örnekleri çözeceğiz.  \n",
    "\n",
    "[Python programını tanıtıp döngüler konusunun sonuna kadar giriş yaptığım Medium yazımın linkine buradan ulaşabilirsiniz.](https://medium.com/@iremmsagiroglu/python-giri%C5%9F-de%C4%9Fi%C5%9Fkenler-veri-tipleri-operat%C3%B6rler-kontrol-yap%C4%B1lar%C4%B1-if-else-elif-d%C3%B6ng%C3%BCler-45892a0b67c5)"
   ]
  },
  {
   "cell_type": "markdown",
   "metadata": {},
   "source": [
    "### 1. Soru ### \n",
    "\n",
    "Kullanıcıdan 2 tam sayı alın ve bunları karşılaştırıp, sayılar eşit ise 'Sayılar Eşittir' yazdırınız. Eşit değilse; büyükten 5 çıkartıp, küçüğü 6 ile çarparak ekrana yazdırınız."
   ]
  },
  {
   "cell_type": "code",
   "execution_count": 1,
   "metadata": {},
   "outputs": [],
   "source": [
    "num1 = int(input(\"Bir sayı giriniz:\"))\n",
    "num2 = int(input(\"Bir sayı giriniz:\"))\n",
    "\n",
    "if num1 == num2:\n",
    "    print(\"Sayılar Eşittir\")\n",
    "\n",
    "elif num1 < num2:\n",
    "    print(num2 - 5)\n",
    "    print(num1 * 6)\n",
    "\n",
    "else:\n",
    "    print(num1 - 5)\n",
    "    print(num2 * 6)    \n",
    "        "
   ]
  },
  {
   "cell_type": "markdown",
   "metadata": {},
   "source": [
    "### 2. Soru ###\n",
    "\n",
    "Klavyeden girilen iki sayı arasındaki sayıları toplayan kodu yazınız."
   ]
  },
  {
   "cell_type": "code",
   "execution_count": null,
   "metadata": {},
   "outputs": [],
   "source": [
    "num1 = int(input(\"Bir sayı giriniz:\"))\n",
    "num2 = int(input(\"Bir sayı giriniz:\"))\n",
    "total = 0\n",
    "\n",
    "if num1 == num2:\n",
    "  print(\"Sayılar eşittir, işlem yapılamaz.\")\n",
    "\n",
    "\n",
    "elif num1 < num2:\n",
    "  kucukSayı = num1\n",
    "  buyukSayı = num2\n",
    "\n",
    "else:\n",
    "  kucukSayı = num2\n",
    "  buyukSayı = num1\n",
    "\n",
    "for i in range(kucukSayı+1, buyukSayı):\n",
    "  total += i\n",
    "  \n",
    "print(f\"{kucukSayı} ile {buyukSayı} arasındaki sayıların toplamı {total}\")"
   ]
  },
  {
   "cell_type": "markdown",
   "metadata": {},
   "source": [
    "### 3. Soru ###\n",
    "\n",
    "Kullanıcıdan alınan sayının tam bölenlerini ekrana yazdırınız."
   ]
  },
  {
   "cell_type": "code",
   "execution_count": null,
   "metadata": {},
   "outputs": [],
   "source": [
    "num = int(input(\"Bir sayı giriniz:\"))\n",
    "\n",
    "for i in range(1, num+1):\n",
    "  if num % i == 0:\n",
    "    print(i)\n",
    "\n",
    "  else:\n",
    "    continue"
   ]
  },
  {
   "cell_type": "markdown",
   "metadata": {},
   "source": [
    "### 4. Soru ###\n",
    "\n",
    "Verilen tam sayı 'n' için n'den küçük olan ve negatif olmayan sayıların karelerini ekrana yazdırınız.\n",
    "\n",
    "Örneğin 6 sayısı için ekranda şu şekilde bir çıktı olmalıdır ;\n",
    "\n",
    "0\n",
    "\n",
    "1\n",
    "\n",
    "4\n",
    "\n",
    "9\n",
    "\n",
    "16\n",
    "\n",
    "25"
   ]
  },
  {
   "cell_type": "code",
   "execution_count": null,
   "metadata": {},
   "outputs": [],
   "source": [
    "n = int(input(\"Bir tam sayı giriniz:\"))\n",
    "\n",
    "if n < 0:\n",
    "  print(\"Negatif bir sayı girdiniz.\")\n",
    "\n",
    "else:\n",
    "  for i in range(n):\n",
    "    print(i**2)"
   ]
  },
  {
   "cell_type": "markdown",
   "metadata": {},
   "source": [
    "### 5. Soru ###\n",
    "\n",
    "Kullanıcıdan bir metin girmesini isteyin ve girilen bu metinde bulunan sesli harflerin sayısını ekranda gösteren kodu yazın."
   ]
  },
  {
   "cell_type": "code",
   "execution_count": null,
   "metadata": {},
   "outputs": [],
   "source": [
    "metin = input(\"Bir metin yazınız:\")\n",
    "sesli = \"a, A, e, E, ı, I, i, İ, o, O, ö, Ö, u, U, ü, Ü\"\n",
    "count = 0\n",
    "\n",
    "for i in metin:\n",
    "  if i in sesli:\n",
    "    count += 1\n",
    "\n",
    "print(f\"Girilen metinde {count} tane sesli harf vardır.\")"
   ]
  },
  {
   "cell_type": "markdown",
   "metadata": {},
   "source": [
    "### 6. Soru ###\n",
    "\n",
    "Bir sayının kaç basamaklı olduğunu hesaplayan kodu yazınız. "
   ]
  },
  {
   "cell_type": "code",
   "execution_count": null,
   "metadata": {},
   "outputs": [],
   "source": [
    "num = int(input(\"Bir sayı giriniz:\"))\n",
    "count = 0\n",
    "\n",
    "while num != 0:\n",
    "  count += 1\n",
    "  num //= 10\n",
    "  \n",
    "\n",
    "print(f\"Girilen sayı {count} basamaklıdır.\")"
   ]
  },
  {
   "cell_type": "markdown",
   "metadata": {},
   "source": [
    "### 7. Soru ###\n",
    "\n",
    "Verilen iki sayının EBOB'unu ve EKOK'unu hesaplayan kodu yazınız. "
   ]
  },
  {
   "cell_type": "code",
   "execution_count": null,
   "metadata": {},
   "outputs": [],
   "source": [
    "num1 = int(input(\"Birinci sayıyı giriniz:\"))\n",
    "num2 = int(input(\"İkinci sayıyı giriniz:\"))\n",
    "\n",
    "if num1 < num2:\n",
    "  kucuk_sayı = num1\n",
    "\n",
    "else:\n",
    "  kucuk_sayı = num2\n",
    "\n",
    "for i in range(1, kucuk_sayı + 1):\n",
    "  if (num1 % i == 0) and (num2 % i == 0):\n",
    "    ebob = i\n",
    "    ekok = (num1 * num2 // ebob)\n",
    "\n",
    "print(ekok, ebob)"
   ]
  },
  {
   "cell_type": "markdown",
   "metadata": {},
   "source": [
    "### 8. Soru ###\n",
    "\n",
    "Kullanıcı 'q' harfine basmadığı sürece kullanıcıdan sürekli olarak tam sayı alınız. Aldığınız tam sayıların;\n",
    "\n",
    "Toplamını yazdırınız. \n",
    "\n",
    "En büyüğünü yazdırınız. \n",
    "\n",
    "En küçüğünü yazdırınız. \n",
    "\n",
    "Ortalamasını yazdırınız."
   ]
  },
  {
   "cell_type": "code",
   "execution_count": null,
   "metadata": {},
   "outputs": [],
   "source": [
    "toplam = counter = 0\n",
    "enBuyuk = enKucuk = None\n",
    "\n",
    "while True:\n",
    "  userInput = input(\"Bir sayı giriniz:\")\n",
    "  if userInput == \"q\":\n",
    "    break\n",
    "\n",
    "  userInput = int(userInput)\n",
    "\n",
    "  if enBuyuk is None or userInput > enBuyuk:\n",
    "    enBuyuk = userInput\n",
    "  if enKucuk is None or userInput < enKucuk:\n",
    "    enKucuk = userInput\n",
    "\n",
    "  counter += 1\n",
    "  toplam += userInput\n",
    "\n",
    "print(f\"Toplam: {toplam}\")\n",
    "print(f\"En Büyük:, {enBuyuk}\")\n",
    "print(f\"En Küçük:, {enKucuk}\")  \n",
    "print(f\"Ortalama:, {toplam/counter if counter > 0 else 0}\") "
   ]
  },
  {
   "cell_type": "markdown",
   "metadata": {},
   "source": [
    "### 9. Soru ###"
   ]
  },
  {
   "cell_type": "code",
   "execution_count": null,
   "metadata": {},
   "outputs": [],
   "source": [
    "'''\n",
    "Aşağıdaki şekli oluşturunuz.\n",
    "\n",
    "**********\n",
    "****  ****\n",
    "***    ***\n",
    "**      **\n",
    "*        *\n",
    "'''\n",
    "\n",
    "num = 5\n",
    "\n",
    "for i in range(num, 0, -1):\n",
    "  print(\"*\"*(i) + \" \"* ((num-i)*2) + \"*\"*i)"
   ]
  },
  {
   "cell_type": "markdown",
   "metadata": {},
   "source": [
    "### 10. Soru ###\n",
    "\n"
   ]
  },
  {
   "cell_type": "code",
   "execution_count": null,
   "metadata": {},
   "outputs": [],
   "source": [
    "'''\n",
    "Aşağıdaki şekli oluşturunuz.\n",
    "\n",
    "**********\n",
    "****  ****\n",
    "***    ***\n",
    "**      **\n",
    "*        *\n",
    "*        *\n",
    "**      **\n",
    "***    ***\n",
    "****  ****\n",
    "**********\n",
    "'''\n",
    "\n",
    "num = 5\n",
    "\n",
    "for i in range(num, 0, -1):\n",
    "  print(\"*\"*i + \" \"*((num-i)*2) + \"*\"*i)\n",
    "\n",
    "\n",
    "for i in range(1, num+1):\n",
    "  print(\"*\"*i + \" \"*(num-i)*2 + \"*\"*i)\n"
   ]
  }
 ],
 "metadata": {
  "kernelspec": {
   "display_name": "Python 3.10.7 64-bit",
   "language": "python",
   "name": "python3"
  },
  "language_info": {
   "name": "python",
   "version": "3.10.7"
  },
  "orig_nbformat": 4,
  "vscode": {
   "interpreter": {
    "hash": "aee8b7b246df8f9039afb4144a1f6fd8d2ca17a180786b69acc140d282b71a49"
   }
  }
 },
 "nbformat": 4,
 "nbformat_minor": 2
}
