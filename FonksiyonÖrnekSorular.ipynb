{
 "cells": [
  {
   "cell_type": "markdown",
   "metadata": {},
   "source": []
  },
  {
   "cell_type": "markdown",
   "metadata": {},
   "source": [
    "# Python Fonksiyonlar Örnek Soruları #\n",
    "\n",
    "Merhabalar, bu dosyada Python fonksiyonlar konusunda karşımıza çıkabilecek ve çözdüğümüzde konuları daha iyi anlamamızı sağlayacak bazı örnekleri çözeceğiz. \n",
    "\n",
    "[Python fonksiyonlar konusunu ele aldığım Medium yazımın linkine buradan ulaşabilirsiniz]()"
   ]
  },
  {
   "cell_type": "markdown",
   "metadata": {},
   "source": [
    "### 1. Soru ###\n",
    "Girilen iki değerin toplama, çıkarma, çarpma ve bölme işlemine göre sonucunu dönen fonksiyon yazınız. "
   ]
  },
  {
   "cell_type": "code",
   "execution_count": null,
   "metadata": {},
   "outputs": [],
   "source": [
    "def calculater(num1, num2):\n",
    "  add = num1 + num2\n",
    "  sub = num1 - num2\n",
    "  multiply = num1 * num2\n",
    "  division = num1 / num2\n",
    "\n",
    "  return add, sub, multiply, division\n",
    "\n",
    "a, b, c, d = calculater(12, 3)   # \\n ifadesini koyduğumuzda satır başı yapmamızı sağlar. \n",
    "print(f\"İki değerin;\\nToplamı: {a}\\nÇıkarma: {b}\\nÇarpımı: {c}\\nBölme: {d}\")"
   ]
  },
  {
   "cell_type": "markdown",
   "metadata": {},
   "source": [
    "### 2. Soru ###\n",
    "\n",
    "Kullanıcıdan alınan sayının faktöriyelini hesaplayan bir fonksiyon yazınız."
   ]
  },
  {
   "cell_type": "code",
   "execution_count": null,
   "metadata": {},
   "outputs": [],
   "source": [
    "num = int(input(\"Faktöriyelini hesaplamak istediğiniz sayıyı giriniz: \"))\n",
    "\n",
    "def faktoriyel(x):\n",
    "  fac = 1\n",
    "  for i in range(1, num + 1):\n",
    "    fac *= i\n",
    "\n",
    "  return fac\n",
    "\n",
    "print(f\"{num} sayısının faktöriyeli: {faktoriyel(num)}\")      "
   ]
  },
  {
   "cell_type": "markdown",
   "metadata": {},
   "source": [
    "### 3. Soru ###\n",
    "\n",
    "Kullanıcıdan alınan iki sayının ebob ve ekok değerlerini hesaplayan ve bu değerleri dönen bir fonksiyon yazınız."
   ]
  },
  {
   "cell_type": "code",
   "execution_count": null,
   "metadata": {},
   "outputs": [],
   "source": [
    "def calculateEbobEkok(number1,number2):\n",
    "  minValue = min(number1,number2)\n",
    "  ebob = 1\n",
    "  for currentNumber in range(2,minValue+1):\n",
    "    if number1 % currentNumber == 0 and number2 % currentNumber ==0:\n",
    "      ebob = currentNumber\n",
    "  \n",
    "  ekok = (number1 * number2) / ebob\n",
    "  return ebob,ekok"
   ]
  },
  {
   "cell_type": "markdown",
   "metadata": {},
   "source": [
    "### 4. Soru ###\n",
    "\n",
    " Kendisine verilen tam sayının mükemmel sayı olup olmadığını dönen bir fonksiyon yazınız.\n",
    "\n",
    "Mükemmel sayı, kendisi hariç pozitif tam bölenlerinin toplamı kendisine eşit olan sayıdır. Örneğin 28 sayısının tam bölenlerine bakalım: 1, 2, 4, 7, 14 bu sayıların toplamı 28'e eşit olduğu için 28 mükemmel sayıdır."
   ]
  },
  {
   "cell_type": "code",
   "execution_count": null,
   "metadata": {},
   "outputs": [],
   "source": [
    "num = int(input(\"Bir sayı giriniz: \"))\n",
    "total = 0\n",
    "\n",
    "def perfect(num):\n",
    "  for i in range(1, num):\n",
    "    if num % i == 0:\n",
    "      global total\n",
    "      total += i\n",
    "\n",
    "  if total == num:\n",
    "      print(f\"{num} sayısı mükemmel saydıdır.\")\n",
    "\n",
    "  else:   \n",
    "    print(f\"{num} sayısı mükemmel sayı değildir.\") \n",
    "\n",
    "perfect(num)\n"
   ]
  },
  {
   "cell_type": "markdown",
   "metadata": {},
   "source": [
    "### 5. Soru ###\n",
    "\n",
    "Kullanıcının girdiği 2 sayı arasındaki çift sayıları bulup ortalamasını alan bir fonksiyon yazınız."
   ]
  },
  {
   "cell_type": "code",
   "execution_count": null,
   "metadata": {},
   "outputs": [],
   "source": [
    "def isEven(num):\n",
    "  return num % 2 == 0\n",
    "\n",
    "start = int(input(\"Başlangıç değeri: \"))\n",
    "end = int(input(\"Bitiş değeri: \"))\n",
    "\n",
    "total = count = 0\n",
    "for i in range(start, end):\n",
    "  if isEven(i):\n",
    "    total += i\n",
    "    count += 1\n",
    "\n",
    "print(f\"{start} ile {end} değerleri arasındaki çift sayıların ortalaması: \", total / count )\n"
   ]
  },
  {
   "cell_type": "markdown",
   "metadata": {},
   "source": [
    "### 6. Soru ###\n",
    "\n",
    "Bir sayının asal olup olmadığını dönen bir fonksiyon ile yazınız."
   ]
  },
  {
   "cell_type": "code",
   "execution_count": null,
   "metadata": {},
   "outputs": [],
   "source": [
    "def asal(number):\n",
    "  result = True\n",
    "  for i in range(2, number):\n",
    "    if number % i == 0:\n",
    "      result = False\n",
    "      break\n",
    "\n",
    "    return result\n",
    "\n",
    "number = int(input(\"Bir sayı giriniz: \"))\n",
    "print(asal(number))"
   ]
  }
 ],
 "metadata": {
  "kernelspec": {
   "display_name": "Python 3.10.7 64-bit",
   "language": "python",
   "name": "python3"
  },
  "language_info": {
   "name": "python",
   "version": "3.10.7"
  },
  "orig_nbformat": 4,
  "vscode": {
   "interpreter": {
    "hash": "aee8b7b246df8f9039afb4144a1f6fd8d2ca17a180786b69acc140d282b71a49"
   }
  }
 },
 "nbformat": 4,
 "nbformat_minor": 2
}
